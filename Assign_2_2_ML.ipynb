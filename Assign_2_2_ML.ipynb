{
  "nbformat": 4,
  "nbformat_minor": 0,
  "metadata": {
    "colab": {
      "provenance": [],
      "collapsed_sections": [],
      "include_colab_link": true
    },
    "kernelspec": {
      "name": "python3",
      "display_name": "Python 3"
    },
    "language_info": {
      "name": "python"
    },
    "accelerator": "GPU"
  },
  "cells": [
    {
      "cell_type": "markdown",
      "metadata": {
        "id": "view-in-github",
        "colab_type": "text"
      },
      "source": [
        "<a href=\"https://colab.research.google.com/github/FarzanaAdiba/ML_Assignment_2/blob/main/Assign_2_2_ML.ipynb\" target=\"_parent\"><img src=\"https://colab.research.google.com/assets/colab-badge.svg\" alt=\"Open In Colab\"/></a>"
      ]
    },
    {
      "cell_type": "code",
      "metadata": {
        "id": "Ca3uufgvrR6m"
      },
      "source": [
        "import numpy as np\n",
        "import matplotlib.pyplot as plt\n"
      ],
      "execution_count": 3,
      "outputs": []
    },
    {
      "cell_type": "code",
      "source": [
        "from google.colab import drive\n",
        "drive.mount('/content/drive/')"
      ],
      "metadata": {
        "colab": {
          "base_uri": "https://localhost:8080/"
        },
        "id": "jCfgoMjksm32",
        "outputId": "e8f4613e-900c-4892-c0fe-216e85b6ff50"
      },
      "execution_count": 4,
      "outputs": [
        {
          "output_type": "stream",
          "name": "stdout",
          "text": [
            "Mounted at /content/drive/\n"
          ]
        }
      ]
    },
    {
      "cell_type": "code",
      "source": [
        "X_train = np.loadtxt('/content/drive/MyDrive/X_train.csv')\n",
        "Y_train = np.loadtxt('/content/drive/MyDrive/Y_train.csv')\n",
        "X_test = np.loadtxt('/content/drive/MyDrive/X_test.csv')\n",
        "Y_test = np.loadtxt('/content/drive/MyDrive/Y_test.csv')\n"
      ],
      "metadata": {
        "id": "x-hJSH0Msn7G"
      },
      "execution_count": 5,
      "outputs": []
    },
    {
      "cell_type": "code",
      "metadata": {
        "colab": {
          "base_uri": "https://localhost:8080/"
        },
        "id": "Iq_ClKLQyQkv",
        "outputId": "7cf7a987-de0b-45f9-c872-12c220b14f48"
      },
      "source": [
        "X_train.shape,X_test.shape"
      ],
      "execution_count": 24,
      "outputs": [
        {
          "output_type": "execute_result",
          "data": {
            "text/plain": [
              "((100, 2), (50, 2))"
            ]
          },
          "metadata": {},
          "execution_count": 24
        }
      ]
    },
    {
      "cell_type": "code",
      "source": [
        "Y_train.shape, Y_test.shape"
      ],
      "metadata": {
        "colab": {
          "base_uri": "https://localhost:8080/"
        },
        "id": "axIoT6HScVqh",
        "outputId": "1d3f7ea3-5196-4dc9-aa2a-9ce2dfc41ef5"
      },
      "execution_count": 25,
      "outputs": [
        {
          "output_type": "execute_result",
          "data": {
            "text/plain": [
              "((100, 1), (50, 1))"
            ]
          },
          "metadata": {},
          "execution_count": 25
        }
      ]
    },
    {
      "cell_type": "code",
      "source": [
        "Y_train = np.reshape(Y_train, (100, 1))\n",
        "Y_test = np.reshape(Y_test, (50, 1))"
      ],
      "metadata": {
        "id": "IdlZqrJWcTq4"
      },
      "execution_count": 26,
      "outputs": []
    },
    {
      "cell_type": "code",
      "metadata": {
        "id": "-2Z3c5k7r5xX"
      },
      "source": [
        "# function for sigmoid activation calculation\n",
        "def sigmoid(x):\n",
        "    return 1/(1 + np.exp(-x))"
      ],
      "execution_count": 27,
      "outputs": []
    },
    {
      "cell_type": "markdown",
      "source": [
        "# Ans to Q 2_1\n",
        "Here I have used the sigmoid activation function, as the task given is for the regression analysis. The sigmoid activation function is efficient for the prediction of the values for the regression model, as it can map the value between 0 to 1."
      ],
      "metadata": {
        "id": "irqccH6aekXe"
      }
    },
    {
      "cell_type": "code",
      "metadata": {
        "id": "JJTPd-TczEqS"
      },
      "source": [
        "#calculate loss using MSE\n",
        "def mse(y1, y2):\n",
        "    return np.mean((y1 - y2) ** 2)"
      ],
      "execution_count": 28,
      "outputs": []
    },
    {
      "cell_type": "markdown",
      "source": [
        "#Ans to Q 2_2\n",
        "\n",
        "The number of the neurons of the output is generally the same as the number of input neurons given. For this regression problem, the number of neurons for the output layer is one. For each input there is a single number of neuron is passed to the output layer.\n",
        "\n",
        "\n",
        "\n"
      ],
      "metadata": {
        "id": "WducERL5kFIK"
      }
    },
    {
      "cell_type": "code",
      "metadata": {
        "id": "4T289GZfr3gf"
      },
      "source": [
        "#number of input neurons\n",
        "input_neurons = 2 \n",
        "# number of neurons in hidden layer can vary              \n",
        "#hidden_neurons = 10\n",
        "hidden_neurons = 10\n",
        "# output neuron\n",
        "output_neurons = 1   \n",
        "# learning rate step by step\n",
        "lr = 0.001"
      ],
      "execution_count": 60,
      "outputs": []
    },
    {
      "cell_type": "code",
      "metadata": {
        "colab": {
          "base_uri": "https://localhost:8080/"
        },
        "id": "9cWh5YEsrrDv",
        "outputId": "d133577a-223b-4b45-f9e5-fed1973bf84b"
      },
      "source": [
        "W1 = np.random.rand(hidden_neurons, input_neurons)   \n",
        "b1 = np.random.rand(X_train.shape[0], hidden_neurons)\n",
        "W2 = np.random.rand(output_neurons,hidden_neurons)\n",
        "b2 = np.random.rand(X_train.shape[0],output_neurons)\n",
        "print(W1.shape, W2.shape, b1.shape, b2.shape)"
      ],
      "execution_count": 61,
      "outputs": [
        {
          "output_type": "stream",
          "name": "stdout",
          "text": [
            "(10, 2) (1, 10) (100, 10) (100, 1)\n"
          ]
        }
      ]
    },
    {
      "cell_type": "code",
      "metadata": {
        "id": "k7dIgjt952yr",
        "colab": {
          "base_uri": "https://localhost:8080/"
        },
        "outputId": "7cf100a0-ce36-4f78-cb29-92c30c545643"
      },
      "source": [
        "loss_list = []\n",
        "iterations=500\n",
        "for i in range(iterations):\n",
        "    z1 = np.dot(X_train, W1.T) + b1\n",
        "    a1 = sigmoid(z1)\n",
        "    #print(a1.shape)\n",
        "    z2 = np.dot(a1, W2.T) + b2\n",
        "    #print(z2.shape)\n",
        "    a2 = (z2)\n",
        "    #calculation of loss function\n",
        "    loss = mse(a2, Y_train)\n",
        "    print(loss)\n",
        "    dw2 = np.dot((a2-Y_train).T, a1)\n",
        "    db2 = (a2 - Y_train)\n",
        "    dw1 = (a2 - Y_train).dot(W2).dot(sigmoid(z1).T).dot((1-sigmoid(z1))).T.dot(X_train)\n",
        "    db1 = (a2 - Y_train).dot(W2).dot(sigmoid(z1).T).dot((1-sigmoid(z1)))\n",
        "    W1 = W1-lr*dw1\n",
        "    W2 = W2-lr*dw2\n",
        "    b1 = b1-lr*db1\n",
        "    b2 = b2 - lr*db2\n",
        "    loss_list.append(loss)\n",
        "  "
      ],
      "execution_count": 62,
      "outputs": [
        {
          "output_type": "stream",
          "name": "stdout",
          "text": [
            "5615.095886986637\n",
            "4714.492087915337\n",
            "3686.696924429811\n",
            "3483.0594658096325\n",
            "3438.270714849608\n",
            "3424.10750452957\n",
            "3415.8577234105505\n",
            "3408.7586547613478\n",
            "3401.8923720170355\n",
            "3395.081943963041\n",
            "3388.293249259763\n",
            "3381.5196899078314\n",
            "3374.759972426801\n",
            "3368.01382569601\n",
            "3361.2811756710826\n",
            "3354.5619863314664\n",
            "3347.856229027576\n",
            "3341.1638765734756\n",
            "3334.484902108481\n",
            "3327.8192788777524\n",
            "3321.166980189954\n",
            "3314.527979409025\n",
            "3307.9022499525163\n",
            "3301.2897652911797\n",
            "3294.690498948815\n",
            "3288.104424502147\n",
            "3281.5315155807225\n",
            "3274.971745866798\n",
            "3268.4250890952408\n",
            "3261.8915190534226\n",
            "3255.3710095811125\n",
            "3248.8635345703706\n",
            "3242.369067965452\n",
            "3235.8875837626892\n",
            "3229.419056010403\n",
            "3222.9634588087847\n",
            "3216.520766309801\n",
            "3210.0909527170907\n",
            "3203.6739922858537\n",
            "3197.2698593227583\n",
            "3190.878528185831\n",
            "3184.4999732843526\n",
            "3178.134169078763\n",
            "3171.781090080559\n",
            "3165.440710852179\n",
            "3159.113006006917\n",
            "3152.797950208811\n",
            "3146.49551817255\n",
            "3140.20568466336\n",
            "3133.9284244969167\n",
            "3127.6637125392385\n",
            "3121.4115237065816\n",
            "3115.1718329653495\n",
            "3108.944615331983\n",
            "3102.729845872868\n",
            "3096.527499704227\n",
            "3090.337551992032\n",
            "3084.15997795189\n",
            "3077.9947528489574\n",
            "3071.8418519978313\n",
            "3065.7012507624545\n",
            "3059.5729245560196\n",
            "3053.4568488408654\n",
            "3047.3529991283813\n",
            "3041.2613509789085\n",
            "3035.1818800016445\n",
            "3029.11456185454\n",
            "3023.059372244208\n",
            "3017.016286925822\n",
            "3010.985281703021\n",
            "3004.966332427812\n",
            "2998.959415000472\n",
            "2992.964505369455\n",
            "2986.98157953129\n",
            "2981.0106135304945\n",
            "2975.051583459466\n",
            "2969.1044654583966\n",
            "2963.1692357151715\n",
            "2957.245870465278\n",
            "2951.334345991707\n",
            "2945.434638624859\n",
            "2939.546724742449\n",
            "2933.6705807694143\n",
            "2927.8061831778164\n",
            "2921.9535084867503\n",
            "2916.112533262247\n",
            "2910.283234117183\n",
            "2904.465587711184\n",
            "2898.659570750535\n",
            "2892.865159988081\n",
            "2887.082332223141\n",
            "2881.3110643014084\n",
            "2875.551333114866\n",
            "2869.803115601683\n",
            "2864.066388746136\n",
            "2858.341129578503\n",
            "2852.627315174982\n",
            "2846.9249226575935\n",
            "2841.2339291940903\n",
            "2835.554311997869\n",
            "2829.886048327874\n",
            "2824.2291154885083\n",
            "2818.5834908295433\n",
            "2812.9491517460287\n",
            "2807.3260756782006\n",
            "2801.7142401113906\n",
            "2796.11362257594\n",
            "2790.5242006471008\n",
            "2784.945951944957\n",
            "2779.3788541343274\n",
            "2773.822884924677\n",
            "2768.2780220700333\n",
            "2762.7442433688884\n",
            "2757.221526664118\n",
            "2751.709849842887\n",
            "2746.2091908365664\n",
            "2740.719527620639\n",
            "2735.240838214616\n",
            "2729.7731006819477\n",
            "2724.316293129932\n",
            "2718.8703937096343\n",
            "2713.4353806157915\n",
            "2708.0112320867333\n",
            "2702.5979264042858\n",
            "2697.1954418936907\n",
            "2691.8037569235207\n",
            "2686.422849905586\n",
            "2681.05269929485\n",
            "2675.693283589347\n",
            "2670.344581330093\n",
            "2665.0065711009984\n",
            "2659.6792315287867\n",
            "2654.362541282903\n",
            "2649.0564790754333\n",
            "2643.7610236610185\n",
            "2638.476153836769\n",
            "2633.201848442177\n",
            "2627.9380863590354\n",
            "2622.684846511352\n",
            "2617.442107865266\n",
            "2612.2098494289626\n",
            "2606.9880502525875\n",
            "2601.776689428167\n",
            "2596.575746089522\n",
            "2591.3851994121815\n",
            "2586.2050286133067\n",
            "2581.0352129516004\n",
            "2575.875731727228\n",
            "2570.7265642817324\n",
            "2565.587689997954\n",
            "2560.459088299945\n",
            "2555.34073865289\n",
            "2550.232620563022\n",
            "2545.134713577539\n",
            "2540.0469972845267\n",
            "2534.96945131287\n",
            "2529.902055332181\n",
            "2524.844789052707\n",
            "2519.797632225255\n",
            "2514.7605646411107\n",
            "2509.733566131958\n",
            "2504.716616569794\n",
            "2499.7096958668535\n",
            "2494.7127839755253\n",
            "2489.725860888275\n",
            "2484.7489066375592\n",
            "2479.7819012957525\n",
            "2474.8248249750645\n",
            "2469.8776578274574\n",
            "2464.940380044573\n",
            "2460.0129718576472\n",
            "2455.095413537433\n",
            "2450.187685394124\n",
            "2445.2897677772717\n"
          ]
        },
        {
          "output_type": "stream",
          "name": "stderr",
          "text": [
            "/usr/local/lib/python3.7/dist-packages/ipykernel_launcher.py:3: RuntimeWarning: overflow encountered in exp\n",
            "  This is separate from the ipykernel package so we can avoid doing imports until\n"
          ]
        },
        {
          "output_type": "stream",
          "name": "stdout",
          "text": [
            "2440.4016410757085\n",
            "2435.5232857174706\n",
            "2430.6546821697175\n",
            "2425.795810938654\n",
            "2420.946652569453\n",
            "2416.1071876461788\n",
            "2411.277396791704\n",
            "2406.4572606676415\n",
            "2401.6467599742555\n",
            "2396.8458754503936\n",
            "2392.054587873406\n",
            "2387.272878059067\n",
            "2382.5007268615013\n",
            "2377.738115173105\n",
            "2372.98502392447\n",
            "2368.2414340843093\n",
            "2363.507326659378\n",
            "2358.782682694398\n",
            "2354.067483271982\n",
            "2349.3617095125596\n",
            "2344.6653425743007\n",
            "2339.9783636530387\n",
            "2335.300753982196\n",
            "2330.6324948327106\n",
            "2325.9735675129577\n",
            "2321.323953368678\n",
            "2316.6836337829013\n",
            "2312.0525901758733\n",
            "2307.4308040049796\n",
            "2302.8182567646727\n",
            "2298.2149299863963\n",
            "2293.6208052385136\n",
            "2289.0358641262324\n",
            "2284.460088291531\n",
            "2279.893459413084\n",
            "2275.3359592061934\n",
            "2270.7875694227077\n",
            "2266.2482718509577\n",
            "2261.718048315675\n",
            "2257.1968806779255\n",
            "2252.6847508350347\n",
            "2248.1816407205138\n",
            "2243.6875323039903\n",
            "2239.2024075911318\n",
            "2234.72624862358\n",
            "2230.259037478871\n",
            "2225.800756270371\n",
            "2221.3513871471987\n",
            "2216.910912294158\n",
            "2212.479313931665\n",
            "2208.056574315677\n",
            "2203.6426757376203\n",
            "2199.2376005243223\n",
            "2194.841331037937\n",
            "2190.4538496758773\n",
            "2186.0751388707426\n",
            "2181.7051810902512\n",
            "2177.3439588371652\n",
            "2172.9914546492264\n",
            "2168.6476510990815\n",
            "2164.3125307942146\n",
            "2159.9860763768775\n",
            "2155.66827052402\n",
            "2151.3590959472203\n",
            "2147.0585353926162\n",
            "2142.7665716408346\n",
            "2138.483187506926\n",
            "2134.2083658402903\n",
            "2129.9420895246144\n",
            "2125.684341477798\n",
            "2121.435104651889\n",
            "2117.1943620330135\n",
            "2112.9620966413086\n",
            "2108.7382915308535\n",
            "2104.5229297896008\n",
            "2100.315994539313\n",
            "2096.11746893549\n",
            "2091.927336167304\n",
            "2087.7455794575317\n",
            "2083.572182062487\n",
            "2079.4071272719557\n",
            "2075.250398409125\n",
            "2071.1019788305202\n",
            "2066.961851925936\n",
            "2062.830001118373\n",
            "2058.706409863964\n",
            "2054.591061651918\n",
            "2050.4839400044457\n",
            "2046.385028476699\n",
            "2042.2943106567002\n",
            "2038.2117701652812\n",
            "2034.1373906560145\n",
            "2030.071155815149\n",
            "2026.0130493615445\n",
            "2021.9630550466077\n",
            "2017.9211566542247\n",
            "2013.887338000698\n",
            "2009.861582934681\n",
            "2005.8438753371136\n",
            "2001.834199121157\n",
            "1997.8325382321311\n",
            "1993.8388766474473\n",
            "1989.8531983765465\n",
            "1985.875487460835\n",
            "1981.9057279736198\n",
            "1977.9439040200457\n",
            "1973.98999973703\n",
            "1970.0439992932013\n",
            "1966.1058868888335\n",
            "1962.175646755786\n",
            "1958.2532631574365\n",
            "1954.338720388621\n",
            "1950.4320027755705\n",
            "1946.5330946758465\n",
            "1942.64198047828\n",
            "1938.7586446029088\n",
            "1934.8830715009149\n",
            "1931.0152456545618\n",
            "1927.1551515771323\n",
            "1923.302773812869\n",
            "1919.4580969369085\n",
            "1915.6211055552221\n",
            "1911.7917843045527\n",
            "1907.9701178523565\n",
            "1904.1560908967358\n",
            "1900.3496881663855\n",
            "1896.550894420524\n",
            "1892.7596944488373\n",
            "1888.9760730714177\n",
            "1885.2000151386987\n",
            "1881.4315055314023\n",
            "1877.6705291604696\n",
            "1873.917070967006\n",
            "1870.1711159222216\n",
            "1866.432649027365\n",
            "1862.70165531367\n",
            "1858.9781198422913\n",
            "1855.2620277042474\n",
            "1851.5533640203587\n",
            "1847.8521139411894\n",
            "1844.1582626469876\n",
            "1840.4717953476252\n",
            "1836.792697282541\n",
            "1833.120953720678\n",
            "1829.456549960428\n",
            "1825.79947132957\n",
            "1822.1497031852136\n",
            "1818.5072309137392\n",
            "1814.8720399307383\n",
            "1811.2441156809593\n",
            "1807.6234436382435\n",
            "1804.0100093054714\n",
            "1800.4037982145028\n",
            "1796.8047959261185\n",
            "1793.2129880299647\n",
            "1789.6283601444918\n",
            "1786.0508979169006\n",
            "1782.4805870230807\n",
            "1778.917413167559\n",
            "1775.3613620834353\n",
            "1771.8124195323305\n",
            "1768.2705713043279\n",
            "1764.735803217916\n",
            "1761.2081011199316\n",
            "1757.6874508855049\n",
            "1754.1738384179998\n",
            "1750.6672496489598\n",
            "1747.167670538052\n",
            "1743.6750870730095\n",
            "1740.1894852695755\n",
            "1736.7108511714466\n",
            "1733.23917085022\n",
            "1729.7744304053347\n",
            "1726.316615964016\n",
            "1722.8657136812221\n",
            "1719.4217097395867\n",
            "1715.9845903493642\n",
            "1712.5543417483743\n",
            "1709.1309502019474\n",
            "1705.7144020028697\n",
            "1702.304683471328\n",
            "1698.9017809548534\n",
            "1695.5056808282714\n",
            "1692.1163694936401\n",
            "1688.7338333802024\n",
            "1685.3580589443288\n",
            "1681.989032669462\n",
            "1678.626741066066\n",
            "1675.271170671569\n",
            "1671.9223080503111\n",
            "1668.58013979349\n",
            "1665.2446525191076\n",
            "1661.9158328719166\n",
            "1658.5936675233659\n",
            "1655.2781431715487\n",
            "1651.9692465411488\n",
            "1648.6669643833861\n",
            "1645.3712834759663\n",
            "1642.0821906230246\n",
            "1638.799672655076\n",
            "1635.5237164289606\n",
            "1632.254308827792\n",
            "1628.9914367609028\n",
            "1625.7350871637964\n",
            "1622.4852469980895\n",
            "1619.2419032514636\n",
            "1616.005042937611\n",
            "1612.7746530961847\n",
            "1609.5507207927442\n",
            "1606.3332331187057\n",
            "1603.1221771912885\n",
            "1599.9175401534649\n",
            "1596.719309173909\n",
            "1593.5274714469435\n",
            "1590.3420141924912\n",
            "1587.1629246560194\n",
            "1583.990190108494\n",
            "1580.8237978463253\n",
            "1577.663735191317\n",
            "1574.5099894906189\n",
            "1571.3625481166716\n",
            "1568.2213984671587\n",
            "1565.086527964955\n",
            "1561.957924058079\n",
            "1558.8355742196377\n",
            "1555.7194659477807\n",
            "1552.6095867656497\n",
            "1549.5059242213254\n",
            "1546.4084658877807\n",
            "1543.317199362831\n",
            "1540.2321122690817\n",
            "1537.153192253882\n",
            "1534.080426989274\n",
            "1531.0138041719415\n",
            "1527.9533115231638\n",
            "1524.898936788766\n",
            "1521.8506677390678\n",
            "1518.8084921688364\n",
            "1515.772397897238\n",
            "1512.742372767786\n",
            "1509.7184046482973\n",
            "1506.7004814308386\n",
            "1503.6885910316812\n",
            "1500.682721391252\n",
            "1497.6828604740854\n",
            "1494.6889962687721\n",
            "1491.7011167879164\n",
            "1488.7192100680834\n",
            "1485.743264169753\n",
            "1482.7732671772746\n",
            "1479.8092071988133\n",
            "1476.8510723663087\n",
            "1473.898850835423\n",
            "1470.9525307854956\n",
            "1468.0121004194953\n",
            "1465.077547963972\n",
            "1462.1488616690135\n",
            "1459.2260298081933\n",
            "1456.309040678526\n",
            "1453.3978826004206\n",
            "1450.492543917634\n",
            "1447.593012997223\n",
            "1444.6992782294997\n",
            "1441.8113280279827\n",
            "1438.929150829353\n",
            "1436.0527350934055\n",
            "1433.182069303004\n",
            "1430.3171419640362\n",
            "1427.4579416053652\n",
            "1424.6044567787849\n",
            "1421.756676058974\n",
            "1418.9145880434514\n",
            "1416.0781813525284\n",
            "1413.2474446292656\n",
            "1410.4223665394225\n",
            "1407.6029357714197\n",
            "1404.7891410362874\n",
            "1401.9809710676243\n",
            "1399.1784146215475\n",
            "1396.381460476653\n",
            "1393.5900974339672\n",
            "1390.8043143169039\n",
            "1388.0240999712175\n",
            "1385.2494432649612\n",
            "1382.4803330884397\n",
            "1379.7167583541668\n",
            "1376.9587079968196\n",
            "1374.2061709731943\n",
            "1371.4591362621638\n",
            "1368.7175928646307\n",
            "1365.981529803484\n",
            "1363.250936123559\n",
            "1360.5258008915864\n",
            "1357.8061131961567\n",
            "1355.0918621476678\n",
            "1352.3830368782887\n",
            "1349.6796265419127\n",
            "1346.9816203141131\n",
            "1344.2890073921028\n",
            "1341.6017769946882\n",
            "1338.9199183622272\n",
            "1336.2434207565882\n",
            "1333.5722734611018\n",
            "1330.9064657805234\n",
            "1328.2459870409875\n",
            "1325.5908265899657\n",
            "1322.9409737962237\n",
            "1320.2964180497788\n",
            "1317.6571487618576\n",
            "1315.0231553648546\n",
            "1312.3944273122875\n",
            "1309.7709540787569\n",
            "1307.1527251599036\n",
            "1304.5397300723666\n",
            "1301.931958353741\n",
            "1299.3293995625363\n",
            "1296.732043278134\n",
            "1294.1398791007468\n",
            "1291.5528966513762\n",
            "1288.9710855717717\n",
            "1286.3944355243884\n",
            "1283.8229361923459\n",
            "1281.2565772793882\n",
            "1278.6953485098402\n",
            "1276.1392396285682\n",
            "1273.5882404009387\n"
          ]
        }
      ]
    },
    {
      "cell_type": "markdown",
      "source": [
        "#Ans to Q 2_3\n",
        "The average loss is give below"
      ],
      "metadata": {
        "id": "enB9FHPTqbZT"
      }
    },
    {
      "cell_type": "code",
      "metadata": {
        "colab": {
          "base_uri": "https://localhost:8080/"
        },
        "id": "N3OWi7oeqiAT",
        "outputId": "59ccd7e9-684b-4328-cd54-86f280e0dfac"
      },
      "source": [
        "print(\"average loss:\", np.average(np.array(loss_list)))"
      ],
      "execution_count": 63,
      "outputs": [
        {
          "output_type": "stream",
          "name": "stdout",
          "text": [
            "average loss: 2194.279438414756\n"
          ]
        }
      ]
    },
    {
      "cell_type": "markdown",
      "source": [
        "#Ans to Q 2_4\n",
        "\n",
        "Hidden Neuron: 5\n",
        "average loss: 3379.0049079235546\n",
        "Hidden Neuron: 10\n",
        "average loss: 3382.793137038559\n",
        "\n",
        "As, the hidden layer has a great impact on the output layer, as changes in each layer might have an impact on the whole model. Here we can see as we increased the number of neurons in hidden layers, the average loss increased. Increasing the neurons of the hidden layer, actually increase the complexity of the model. "
      ],
      "metadata": {
        "id": "BDhe7KghxF84"
      }
    },
    {
      "cell_type": "code",
      "metadata": {
        "colab": {
          "base_uri": "https://localhost:8080/"
        },
        "id": "TpTLFu7dq-zK",
        "outputId": "875fef0c-5430-4fbe-fe14-734300ccd21b"
      },
      "source": [
        "len(loss_list)"
      ],
      "execution_count": 64,
      "outputs": [
        {
          "output_type": "execute_result",
          "data": {
            "text/plain": [
              "500"
            ]
          },
          "metadata": {},
          "execution_count": 64
        }
      ]
    },
    {
      "cell_type": "code",
      "metadata": {
        "id": "1RipSJqH5-fs",
        "colab": {
          "base_uri": "https://localhost:8080/"
        },
        "outputId": "5755830f-fadf-4084-e88a-077319c5cb7f"
      },
      "source": [
        "z1new = np.dot(X_test, W1.T) + b1[:50]\n",
        "a1new = sigmoid(z1new)\n",
        "z2new = np.dot(a1new, W2.T) + b2[:50]\n",
        "a2new = (z2new)"
      ],
      "execution_count": 65,
      "outputs": [
        {
          "output_type": "stream",
          "name": "stderr",
          "text": [
            "/usr/local/lib/python3.7/dist-packages/ipykernel_launcher.py:3: RuntimeWarning: overflow encountered in exp\n",
            "  This is separate from the ipykernel package so we can avoid doing imports until\n"
          ]
        }
      ]
    },
    {
      "cell_type": "code",
      "metadata": {
        "colab": {
          "base_uri": "https://localhost:8080/"
        },
        "id": "iwNEmnyYWjAI",
        "outputId": "a0ed69f2-3279-49a4-b68a-454bf8fc5829"
      },
      "source": [
        "loss = (mse(a2new, Y_test))\n",
        "print(\"average loss:\",loss)"
      ],
      "execution_count": 66,
      "outputs": [
        {
          "output_type": "stream",
          "name": "stdout",
          "text": [
            "average loss: 3382.793137038559\n"
          ]
        }
      ]
    },
    {
      "cell_type": "code",
      "metadata": {
        "colab": {
          "base_uri": "https://localhost:8080/"
        },
        "id": "KlP1jw5YWBvB",
        "outputId": "51090e57-1f1a-45c0-fd57-df77be199bd1"
      },
      "source": [
        "Y_test.shape"
      ],
      "execution_count": 67,
      "outputs": [
        {
          "output_type": "execute_result",
          "data": {
            "text/plain": [
              "(50, 1)"
            ]
          },
          "metadata": {},
          "execution_count": 67
        }
      ]
    },
    {
      "cell_type": "code",
      "metadata": {
        "colab": {
          "base_uri": "https://localhost:8080/",
          "height": 298
        },
        "id": "EYb5ayf6UqKS",
        "outputId": "4d4cf000-c432-4dbb-eb68-30397da6fc46"
      },
      "source": [
        "plt.plot(a2new, color= 'y')\n",
        "plt.plot(Y_test)\n",
        "plt.title('predicted output vs actual output')\n",
        "plt.legend((\"predicted\", \"actual\"))"
      ],
      "execution_count": 68,
      "outputs": [
        {
          "output_type": "execute_result",
          "data": {
            "text/plain": [
              "<matplotlib.legend.Legend at 0x7f14f0c6b1d0>"
            ]
          },
          "metadata": {},
          "execution_count": 68
        },
        {
          "output_type": "display_data",
          "data": {
            "text/plain": [
              "<Figure size 432x288 with 1 Axes>"
            ],
            "image/png": "[encoded data removed]"
          },
          "metadata": {
            "needs_background": "light"
          }
        }
      ]
    },
    {
      "cell_type": "code",
      "metadata": {
        "id": "ZaxO8c4hXmSA"
      },
      "source": [
        "epoch = 500"
      ],
      "execution_count": 69,
      "outputs": []
    },
    {
      "cell_type": "code",
      "metadata": {
        "colab": {
          "base_uri": "https://localhost:8080/",
          "height": 279
        },
        "id": "gR0QzueirUGV",
        "outputId": "61c4e5ef-436b-413f-829f-a546d278068f"
      },
      "source": [
        "num_epoch = np.arange(epoch)\n",
        "plt.plot(num_epoch, np.array(loss_list), color = 'c')\n",
        "plt.xlabel('number of iterations')\n",
        "plt.ylabel('loss')\n",
        "plt.show()"
      ],
      "execution_count": 70,
      "outputs": [
        {
          "output_type": "display_data",
          "data": {
            "text/plain": [
              "<Figure size 432x288 with 1 Axes>"
            ],
            "image/png": "[encoded data removed]"
          },
          "metadata": {
            "needs_background": "light"
          }
        }
      ]
    },
    {
      "cell_type": "markdown",
      "source": [
        "#Ans to Q 2_7_a\n",
        "\n",
        "For the tanh activation the new function will be generated"
      ],
      "metadata": {
        "id": "cLzZUyBUynm7"
      }
    },
    {
      "cell_type": "code",
      "metadata": {
        "id": "sWX2M2ypraOt"
      },
      "source": [
        "def tanh(x):\n",
        "    return (2/(1+np.exp(-2*x)))-1"
      ],
      "execution_count": 71,
      "outputs": []
    },
    {
      "cell_type": "code",
      "source": [
        "loss_list = []\n",
        "iterations=500\n",
        "for i in range(iterations):\n",
        "    z1 = np.dot(X_train, W1.T) + b1\n",
        "    a1 = tanh(z1) ###creating changes in each steps where previously sigmoid function was used.\n",
        "    #print(a1.shape)\n",
        "    z2 = np.dot(a1, W2.T) + b2\n",
        "    #print(z2.shape)\n",
        "    a2 = (z2)\n",
        "    #calculation of loss function\n",
        "    loss = mse(a2, Y_train)\n",
        "    print(loss)\n",
        "    dw2 = np.dot((a2-Y_train).T, a1)\n",
        "    db2 = (a2 - Y_train)\n",
        "    dw1 = (a2 - Y_train).dot(W2).dot(tanh(z1).T).dot((1-tanh(z1))).T.dot(X_train)\n",
        "    db1 = (a2 - Y_train).dot(W2).dot(tanh(z1).T).dot((1-tanh(z1)))\n",
        "    W1 = W1-lr*dw1\n",
        "    W2 = W2-lr*dw2\n",
        "    b1 = b1-lr*db1\n",
        "    b2 = b2 - lr*db2\n",
        "    loss_list.append(loss)"
      ],
      "metadata": {
        "colab": {
          "base_uri": "https://localhost:8080/"
        },
        "id": "YwlchhJVzU5g",
        "outputId": "73cc42b7-9d20-4213-f562-a5d2d768d74a"
      },
      "execution_count": 72,
      "outputs": [
        {
          "output_type": "stream",
          "name": "stderr",
          "text": [
            "/usr/local/lib/python3.7/dist-packages/ipykernel_launcher.py:2: RuntimeWarning: overflow encountered in exp\n",
            "  \n"
          ]
        },
        {
          "output_type": "stream",
          "name": "stdout",
          "text": [
            "883.0744141418634\n",
            "10999.863917901479\n",
            "939.001955208614\n",
            "1010.3535626234432\n",
            "1220.168960864615\n",
            "2165.6421822822767\n",
            "3259.5805278100584\n",
            "3822.3191745279105\n",
            "3540.6071864045834\n",
            "3354.2339092940965\n",
            "3429.9032159550607\n",
            "3518.006851760533\n",
            "3443.4023830851092\n",
            "3431.6108795029536\n",
            "3424.751084446684\n",
            "3432.0647877752217\n",
            "3420.289586444224\n",
            "3413.452422646418\n",
            "3406.628931253543\n",
            "3403.565713381625\n",
            "3390.9270500577536\n",
            "3387.553495697149\n",
            "3383.1570401635295\n",
            "3372.725407298043\n",
            "3365.983325540152\n",
            "3359.2547248723936\n",
            "3356.234131687113\n",
            "3343.770624004963\n",
            "3340.4443708741273\n",
            "3336.1095395988277\n",
            "3325.822681181498\n",
            "3319.17435802384\n",
            "3312.539328482147\n",
            "3309.560765020946\n",
            "3297.26998448215\n",
            "3293.9903704758367\n",
            "3289.7163016130057\n",
            "3279.572208392726\n",
            "3273.0163399801972\n",
            "3266.4735803165745\n",
            "3263.5364599341597\n",
            "3251.416011718684\n",
            "3248.182383991503\n",
            "3243.9682277349348\n",
            "3233.964918346174\n",
            "3227.5002189557817\n",
            "3221.048446018086\n",
            "3218.152190270096\n",
            "3206.1997127691034\n",
            "3203.011427606086\n",
            "3198.856346021132\n",
            "3188.991866596914\n",
            "3182.6170683856203\n",
            "3176.2550168659154\n",
            "3173.399055394184\n",
            "3161.612219749417\n",
            "3158.4686424383817\n",
            "3154.3718092962035\n",
            "3144.644233086464\n",
            "3138.3580858425375\n",
            "3132.0845080289337\n",
            "3129.268278448375\n",
            "3117.6447880979167\n",
            "3114.545292803612\n",
            "3110.5058934177523\n",
            "3100.913320412994\n",
            "3094.7145913108166\n",
            "3088.528256842783\n",
            "3085.7512046298452\n",
            "3074.288794860181\n",
            "3071.232764500195\n",
            "3067.2499955654293\n",
            "3057.7905521255934\n",
            "3051.678025483884\n",
            "3045.5777211109385\n",
            "3041.850631707581\n",
            "3038.428769831625\n",
            "3024.73040944918\n",
            "3022.467208389881\n",
            "3018.548074713008\n",
            "3009.238544570922\n",
            "3003.2230734448717\n",
            "2997.2196305210523\n",
            "2994.525769053616\n",
            "2983.4017605672393\n",
            "2980.4361012499216\n",
            "2976.570975626816\n",
            "2967.3906484194954\n",
            "2961.458831283144\n",
            "2955.5388750794054\n",
            "2952.882490845877\n",
            "2941.9126421847554\n",
            "2938.988569873932\n",
            "2935.177629445723\n",
            "2926.1247104463228\n",
            "2920.275383964642\n",
            "2914.4377534720943\n",
            "2911.818323411862\n",
            "2901.215207284349\n",
            "2898.052447779495\n",
            "2894.359701934883\n",
            "2885.432313780121\n",
            "2879.6643314433113\n",
            "2873.9078824447533\n",
            "2871.823093953394\n",
            "2863.1232874868847\n",
            "2856.9150458341587\n",
            "2854.1048710656546\n",
            "2845.2994280659063\n",
            "2839.611671409115\n",
            "2837.0604023792175\n",
            "2826.5201637637033\n",
            "2823.7109793387312\n",
            "2820.0496545531223\n",
            "2811.3512396778865\n",
            "2805.7313454886353\n",
            "2800.1226885290002\n",
            "2797.6069137566437\n",
            "2787.2127452944096\n",
            "2784.442953337598\n",
            "2780.8329560448014\n",
            "2772.2552611633705\n",
            "2766.7135198774945\n",
            "2761.1828595512566\n",
            "2758.702083651334\n",
            "2749.074128837128\n",
            "2744.958298969642\n",
            "2742.1609874952037\n",
            "2733.7006547309975\n",
            "2728.2359841434377\n",
            "2722.7822404111316\n",
            "2720.3376204063284\n",
            "2710.2305738188124\n",
            "2707.536921844608\n",
            "2704.0257380609637\n",
            "2695.6845187207177\n",
            "2690.2958424319227\n",
            "2684.9179410428983\n",
            "2682.507338483393\n",
            "2672.540362579339\n",
            "2669.884479126622\n",
            "2666.4225111515525\n",
            "2658.197054457262\n",
            "2652.883315650124\n",
            "2647.580201902137\n",
            "2645.2031419586497\n",
            "2635.3742946873554\n",
            "2632.7556510813884\n",
            "2629.342210603567\n",
            "2621.230909946872\n",
            "2615.9910665026428\n",
            "2610.761700360701\n",
            "2608.4177148419462\n",
            "2598.7250810849464\n",
            "2596.1431560448373\n",
            "2592.7775643684326\n",
            "2584.7788354383906\n",
            "2579.611859730582\n",
            "2574.455215622978\n",
            "2572.1438428827973\n",
            "2562.585534080329\n",
            "2560.039813615667\n",
            "2556.7214015260934\n",
            "2548.8336819997257\n",
            "2543.7385606925745\n",
            "2538.653627309748\n",
            "2536.374412155544\n",
            "2526.9485677073567\n",
            "2524.438540483729\n",
            "2521.166650876864\n",
            "2513.3884001093925\n",
            "2508.3641339591354\n",
            "2503.349914055348\n",
            "2501.1024076623\n",
            "2492.427140502644\n",
            "2488.5552788497916\n",
            "2486.1057065397235\n",
            "2478.4335694941756\n",
            "2473.4791780863447\n",
            "2468.534693209347\n",
            "2466.3202502038575\n",
            "2457.1549667880636\n",
            "2454.7137613675823\n",
            "2451.5311087080427\n",
            "2443.9673007074093\n",
            "2439.081807410098\n",
            "2434.2060828770827\n",
            "2432.0224573345604\n",
            "2422.984194528675\n",
            "2420.5772165550015\n",
            "2417.4391720176804\n",
            "2409.980337365497\n",
            "2405.162784044729\n",
            "2400.354863639421\n",
            "2398.2016253744096\n",
            "2389.2886220539644\n",
            "2386.9153924285674\n",
            "2383.8213321613825\n",
            "2376.466013989355\n",
            "2371.715455837331\n",
            "2366.9743966411097\n",
            "2364.8511214822197\n",
            "2356.0616409459776\n",
            "2353.721687270764\n",
            "2350.670996136535\n",
            "2343.417757795599\n",
            "2338.733263143519\n",
            "2334.0581353504917\n",
            "2331.964405056267\n",
            "2323.2967346874766\n",
            "2320.9895911711264\n",
            "2317.9816626259058\n",
            "2310.829087405609\n",
            "2306.209737540955\n",
            "2301.5996242756078\n",
            "2299.5350264515596\n",
            "2290.9874773839174\n",
            "2288.7126847495238\n",
            "2285.7469207226227\n",
            "2278.6936115744033\n",
            "2274.1385005607654\n",
            "2269.5924976981414\n",
            "2267.5566257149503\n",
            "2259.1275325040515\n",
            "2256.8846378929497\n",
            "2253.9604486728804\n",
            "2247.0050279371817\n",
            "2242.5132624365815\n",
            "2238.0304784249684\n",
            "2236.0229313378386\n",
            "2227.4638757989883\n",
            "2224.868078109444\n",
            "2222.61624443172\n",
            "2215.755943207449\n",
            "2211.3266446596863\n",
            "2206.9114061263595\n",
            "2204.9219143499217\n",
            "2196.7317466566806\n",
            "2194.550518430208\n",
            "2191.7062681440552\n",
            "2184.942598366067\n",
            "2180.574895729484\n",
            "2176.215926512919\n",
            "2174.2652357606903\n",
            "2166.1825868323826\n",
            "2164.0319447521315\n",
            "2161.227559831155\n",
            "2154.5577587025805\n",
            "2150.2507953934264\n",
            "2145.952444053433\n",
            "2144.0288990930676\n",
            "2136.058265866157\n",
            "2133.9377783076534\n",
            "2131.1727012215683\n",
            "2124.595465991371\n",
            "2120.3483973378334\n",
            "2116.1098208915523\n",
            "2114.2130427971297\n",
            "2106.3528721947146\n",
            "2104.2621170620305\n",
            "2101.535798072516\n",
            "2095.0498440699403\n",
            "2090.861837146661\n",
            "2086.6822043342027\n",
            "2084.8118194772373\n",
            "2077.0605799603904\n",
            "2074.9991410609005\n",
            "2072.3110381093024\n",
            "2065.9150984929515\n",
            "2061.7853319576743\n",
            "2057.6638230790886\n",
            "2055.8194630544162\n",
            "2048.1756443234635\n",
            "2046.1431112853213\n",
            "2043.4926898854326\n",
            "2037.1855153958186\n",
            "2033.11317932831\n",
            "2029.0489860828304\n",
            "2027.2302876355343\n",
            "2019.2805468494582\n",
            "2017.293141829065\n",
            "2015.0755061617053\n",
            "2008.8550839524592\n",
            "2004.8393804473517\n",
            "2000.8317065258357\n",
            "1999.0390967337726\n",
            "1991.6061378612033\n",
            "1989.629782142193\n",
            "1987.0523097638006\n",
            "1980.919003383276\n",
            "1976.9591441343239\n",
            "1973.0072028051973\n",
            "1971.239537801186\n",
            "1963.9095899680096\n",
            "1961.9609459358264\n",
            "1959.4196022468088\n",
            "1953.3714160432532\n",
            "1949.4666244512762\n",
            "1945.5696406689965\n",
            "1943.826572257699\n",
            "1936.598207240731\n",
            "1934.6768869868238\n",
            "1932.1711667003526\n",
            "1926.2069193388172\n",
            "1922.3564296052218\n",
            "1918.5136391024391\n",
            "1916.7948239563034\n",
            "1909.664810976844\n",
            "1907.7704870840819\n",
            "1905.301661052468\n",
            "1899.4201846394158\n",
            "1895.6232416175435\n",
            "1891.833890757548\n",
            "1890.13899332696\n",
            "1884.2378836840383\n",
            "1880.5452949508792\n",
            "1878.804681116473\n",
            "1873.002764613801\n",
            "1869.2586300411522\n",
            "1867.5838968513306\n",
            "1861.8149068685816\n",
            "1858.0945585274517\n",
            "1856.3849204178387\n",
            "1850.6518776272815\n",
            "1846.9524225017751\n",
            "1845.2978844494207\n",
            "1839.3935591329416\n",
            "1835.9293644753866\n",
            "1834.232614587244\n",
            "1828.5681441247893\n",
            "1824.912834406844\n",
            "1823.278020319762\n",
            "1817.6356751827739\n",
            "1814.0136638166573\n",
            "1812.3447056632292\n",
            "1806.7475201900347\n",
            "1803.1358299228666\n",
            "1801.5207234556822\n",
            "1795.6260021475696\n",
            "1792.374649938648\n",
            "1790.7180666943077\n",
            "1785.1878249732442\n",
            "1781.6192325605266\n",
            "1780.023380836767\n",
            "1774.5152062329912\n",
            "1770.97864771154\n",
            "1769.3494202448576\n",
            "1763.8848631083454\n",
            "1760.3588553393638\n",
            "1758.7822441531964\n",
            "1752.9007377168289\n",
            "1749.853337227728\n",
            "1748.2359632156993\n",
            "1742.8367691899277\n",
            "1739.3528365838467\n",
            "1737.795022060155\n",
            "1732.420447178003\n",
            "1728.9647043239381\n",
            "1727.374256385981\n",
            "1722.0391845996076\n",
            "1718.596826387543\n",
            "1717.057796308199\n",
            "1711.192883668745\n",
            "1708.3409014704853\n",
            "1706.7618022456556\n",
            "1701.4905502692927\n",
            "1698.0892687998698\n",
            "1696.5685881792442\n",
            "1691.3247617879076\n",
            "1687.947603796673\n",
            "1686.3950068479783\n",
            "1681.186352635184\n",
            "1677.8256592787159\n",
            "1676.3233170976764\n",
            "1670.47781019198\n",
            "1667.8134031752668\n",
            "1666.2716667348172\n",
            "1661.1253247629254\n",
            "1657.8047334232597\n",
            "1656.320304122641\n",
            "1651.2031387241764\n",
            "1647.9036917859776\n",
            "1646.388041264906\n",
            "1641.302809567404\n",
            "1638.0218434569772\n",
            "1636.5553164556432\n",
            "1630.7314946498927\n",
            "1628.2474726794637\n",
            "1626.7422088804115\n",
            "1621.7178167203351\n",
            "1618.4760010321768\n",
            "1617.0269607124783\n",
            "1612.032060272555\n",
            "1608.8098765179345\n",
            "1607.330290825549\n",
            "1602.3655573508981\n",
            "1599.162426850069\n",
            "1597.7308625312146\n",
            "1591.9306105655623\n",
            "1589.6202953800334\n",
            "1588.150635371948\n",
            "1583.2453029802982\n",
            "1580.0803938890217\n",
            "1578.6659001905323\n",
            "1573.789590183655\n",
            "1570.6436142745256\n",
            "1567.8647080574854\n",
            "1564.3665639808305\n",
            "1561.2263156702322\n",
            "1559.8286270198407\n",
            "1555.0104224773345\n",
            "1551.901954942695\n",
            "1550.475105113414\n",
            "1545.6857404442\n",
            "1542.595912959087\n",
            "1541.21508047857\n",
            "1536.4543063375345\n",
            "1533.3829324992805\n",
            "1531.0871499321863\n",
            "1527.2460954808787\n",
            "1524.1887003582756\n",
            "1522.8243777725497\n",
            "1518.120316972635\n",
            "1515.085592799072\n",
            "1513.6898016166097\n",
            "1509.016802975706\n",
            "1504.3752659798158\n",
            "1504.3213325361646\n",
            "1500.0060541118833\n",
            "1497.0075407015734\n",
            "1495.6316454503938\n",
            "1491.011399337652\n",
            "1488.030865919898\n",
            "1486.698976163403\n",
            "1482.106311401643\n",
            "1479.1435792643979\n",
            "1477.7840596035708\n",
            "1473.218884830666\n",
            "1470.2739186688043\n",
            "1468.9580908033022\n",
            "1464.4201684060847\n",
            "1461.4927908879656\n",
            "1460.1494098754515\n",
            "1455.638691469095\n",
            "1451.185350062894\n",
            "1451.1587883448958\n",
            "1446.946631140194\n",
            "1444.0541835132537\n",
            "1442.7271761476877\n",
            "1438.2701107072614\n",
            "1435.3950071829036\n",
            "1434.1105111377144\n",
            "1429.6800528463143\n",
            "1426.8221208570028\n",
            "1425.5109070514327\n",
            "1421.106967892212\n",
            "1418.2684153172231\n",
            "1416.996482750641\n",
            "1412.6195164512935\n",
            "1409.7956884935181\n",
            "1404.668384513465\n",
            "1404.408708645586\n",
            "1401.3455806627537\n",
            "1400.0907589179883\n",
            "1395.7651553731484\n",
            "1392.975019300735\n",
            "1391.696190626295\n",
            "1387.3964752136908\n",
            "1384.6230681420236\n",
            "1383.3833743715943\n",
            "1379.1093287021963\n",
            "1376.3524876454585\n",
            "1375.0888846242049\n",
            "1370.8404199440113\n",
            "1368.1001084448812\n",
            "1366.8753593675674\n",
            "1362.6522582666882\n",
            "1359.9283149116952\n",
            "1358.6797557195803\n",
            "1354.481930884416\n",
            "1351.7743200227537\n",
            "1350.5643360484369\n",
            "1346.391572279201\n",
            "1343.700134053229\n",
            "1342.4664390408332\n",
            "1338.3186504448552\n",
            "1335.6433499984175\n",
            "1334.4479536916665\n",
            "1330.3249272552189\n",
            "1327.6656062701704\n",
            "1326.4465979366773\n",
            "1322.3482491687869\n",
            "1319.7048735719166\n",
            "1318.523889626161\n",
            "1314.4500076753875\n",
            "1311.822420671892\n",
            "1310.6179236393693\n",
            "1306.5684253974555\n",
            "1303.9565936855129\n",
            "1302.7898488975186\n"
          ]
        }
      ]
    },
    {
      "cell_type": "code",
      "source": [
        "print(\"average loss:\", np.average(np.array(loss_list)))"
      ],
      "metadata": {
        "colab": {
          "base_uri": "https://localhost:8080/"
        },
        "id": "ibi5tQ3mztmo",
        "outputId": "8d4140de-3a5f-4d63-e1b5-bd8a380a56c7"
      },
      "execution_count": 73,
      "outputs": [
        {
          "output_type": "stream",
          "name": "stdout",
          "text": [
            "average loss: 2227.3464324554147\n"
          ]
        }
      ]
    },
    {
      "cell_type": "code",
      "source": [
        "z1new = np.dot(X_test, W1.T) + b1[:50]\n",
        "a1new = tanh(z1new)\n",
        "z2new = np.dot(a1new, W2.T) + b2[:50]\n",
        "a2new = (z2new)"
      ],
      "metadata": {
        "colab": {
          "base_uri": "https://localhost:8080/"
        },
        "id": "Hax4W_DUz1we",
        "outputId": "1ab78e4e-a1e4-47a4-ced2-1d4ea334d7fa"
      },
      "execution_count": 74,
      "outputs": [
        {
          "output_type": "stream",
          "name": "stderr",
          "text": [
            "/usr/local/lib/python3.7/dist-packages/ipykernel_launcher.py:2: RuntimeWarning: overflow encountered in exp\n",
            "  \n"
          ]
        }
      ]
    },
    {
      "cell_type": "code",
      "source": [
        "plt.plot(a2new, color= 'y')\n",
        "plt.plot(Y_test)\n",
        "plt.title('predicted output vs actual output for tanh activation function')\n",
        "plt.legend((\"predicted\", \"actual\"))"
      ],
      "metadata": {
        "colab": {
          "base_uri": "https://localhost:8080/",
          "height": 298
        },
        "id": "lSKi9gwaz5ES",
        "outputId": "937dd3cd-072a-4ec7-9079-1791e5620b6f"
      },
      "execution_count": 77,
      "outputs": [
        {
          "output_type": "execute_result",
          "data": {
            "text/plain": [
              "<matplotlib.legend.Legend at 0x7f14f00d8750>"
            ]
          },
          "metadata": {},
          "execution_count": 77
        },
        {
          "output_type": "display_data",
          "data": {
            "text/plain": [
              "<Figure size 432x288 with 1 Axes>"
            ],
            "image/png": "[encoded data removed]"
          },
          "metadata": {
            "needs_background": "light"
          }
        }
      ]
    },
    {
      "cell_type": "code",
      "source": [
        "epoch=500\n",
        "num_epoch = np.arange(epoch)\n",
        "plt.plot(num_epoch, np.array(loss_list), color = 'm')\n",
        "plt.xlabel('number of iterations')\n",
        "plt.ylabel('loss')\n",
        "plt.show()"
      ],
      "metadata": {
        "colab": {
          "base_uri": "https://localhost:8080/",
          "height": 279
        },
        "id": "2KxLxXyr0JE2",
        "outputId": "9b201e5f-d351-4607-da6f-28ba27d8429b"
      },
      "execution_count": 79,
      "outputs": [
        {
          "output_type": "display_data",
          "data": {
            "text/plain": [
              "<Figure size 432x288 with 1 Axes>"
            ],
            "image/png": "[encoded data removed]"
          },
          "metadata": {
            "needs_background": "light"
          }
        }
      ]
    },
    {
      "cell_type": "markdown",
      "source": [
        "#Ans Q 2_7\n",
        "\n",
        "From the activation function tanh, we can see that the average loss is decreased in tanh function compared to the sigmoid function, it is also imortant that for the same number of epochs tanh perform well. That's why for regression problem, tanh is used."
      ],
      "metadata": {
        "id": "34YRNstv1AiD"
      }
    },
    {
      "cell_type": "code",
      "source": [],
      "metadata": {
        "id": "qRpyUlBY0E_N"
      },
      "execution_count": null,
      "outputs": []
    }
  ]
}